{
 "cells": [
  {
   "cell_type": "code",
   "execution_count": 10,
   "id": "1829345a",
   "metadata": {},
   "outputs": [],
   "source": [
    "import sys\n",
    "import matplotlib.pyplot as plt\n",
    "import numpy as np\n",
    "import pandas as pd\n",
    "\n",
    "import torch\n",
    "import torch.nn as nn\n",
    "import torch.optim as optim\n",
    "from sklearn.model_selection import train_test_split\n",
    "from sklearn.preprocessing import StandardScaler"
   ]
  },
  {
   "cell_type": "code",
   "execution_count": 4,
   "id": "447f30ec",
   "metadata": {},
   "outputs": [],
   "source": [
    "df = pd.read_csv('heart_attack_dataset.csv')"
   ]
  },
  {
   "cell_type": "code",
   "execution_count": 5,
   "id": "2ff0b7c4",
   "metadata": {},
   "outputs": [],
   "source": [
    "# print(df.shape)\n",
    "# print(df.head())\n",
    "# categorization of columns for reference\n",
    "BinaryColumns = ['Smoker', 'Diabetes', 'Hypertension', 'FamilyHistory', \n",
    "                'AlcoholConsumption', 'Medication', 'ExerciseInducedAngina', \n",
    "                 'PreviousHeartAttack', 'StrokeHistory']\n",
    "    \n",
    "ContinuousColumns = ['Age', 'Cholesterol', 'BloodPressure', 'HeartRate', 'BMI', 'PhysicalActivity', \n",
    "                     'Income', 'MaxHeartRate', 'ST_Depression', 'NumberOfMajorVessels']\n",
    "    \n",
    "CategoricalColumns = ['Gender', 'Diet', 'StressLevel', 'Ethnicity', \n",
    "                      'EducationLevel', 'ChestPainType', 'ECGResults', \n",
    "                      'Slope', 'Thalassemia', 'Residence', 'EmploymentStatus', \n",
    "                      'MaritalStatus']"
   ]
  },
  {
   "cell_type": "code",
   "execution_count": 26,
   "id": "caa2b3c6",
   "metadata": {},
   "outputs": [],
   "source": [
    "# extract features and target\n",
    "X = df[['Smoker', 'Diabetes', 'Hypertension']].values\n",
    "y = df['Outcome'].values\n",
    "\n",
    "# convert 'heartk attack' and 'not heart attack' to binary output\n",
    "y = (y == 'Heart Attack').astype(int)\n",
    "\n",
    "# split data into train and test sets\n",
    "X_train, X_test, y_train, y_test = train_test_split(X, y, test_size = 0.2, random_state = 42)\n",
    "\n",
    "# standardize inputs\n",
    "scaler = StandardScaler()\n",
    "X_train = torch.tensor(X_train, dtype = torch.float32)\n",
    "y_train = torch.tensor(y_train, dtype = torch.float32).view(-1, 1)\n",
    "\n",
    "X_test = torch.tensor(X_test, dtype = torch.float32)\n",
    "y_test = torch.tensor(y_test, dtype = torch.float32).view(-1, 1)"
   ]
  },
  {
   "cell_type": "code",
   "execution_count": 27,
   "id": "a0f5fa3b",
   "metadata": {},
   "outputs": [],
   "source": [
    "class NN(nn.Module):\n",
    "    def __init__(self):\n",
    "        super(NN, self).__init__()\n",
    "        self.fc1 = nn.Linear(3, 10) # input layer\n",
    "        self.fc2 = nn.Linear(10, 5) # hidden layer 1\n",
    "        self.fc3 = nn.Linear(5, 1)  # hidden layer 2 to output layer\n",
    "        self.sigmoid = nn.Sigmoid()\n",
    "    \n",
    "    def forward(self, x):\n",
    "        x = torch.relu(self.fc1(x))   # ReLu on hidden layer 1\n",
    "        x = torch.relu(self.fc2(x))   # ReLu on hidden layer 2\n",
    "        x = self.sigmoid(self.fc3(x)) # sigmoid activiation on output\n",
    "        return x"
   ]
  },
  {
   "cell_type": "code",
   "execution_count": 28,
   "id": "e27529e6",
   "metadata": {},
   "outputs": [],
   "source": [
    "# hyper-parameters\n",
    "learn_rate = 0.01\n",
    "epochs = 100"
   ]
  },
  {
   "cell_type": "code",
   "execution_count": 29,
   "id": "0fba83b3",
   "metadata": {},
   "outputs": [],
   "source": [
    "# the model defined above\n",
    "model = NN()\n",
    "\n",
    "# loss function \n",
    "criterion = nn.BCELoss()\n",
    "\n",
    "# optimizer\n",
    "optimizer = optim.Adam(model.parameters(), lr = learn_rate)"
   ]
  },
  {
   "cell_type": "code",
   "execution_count": 30,
   "id": "56577639",
   "metadata": {},
   "outputs": [
    {
     "name": "stdout",
     "output_type": "stream",
     "text": [
      "Epoch[10 / 100], Loss: 0.6937\n",
      "Epoch[20 / 100], Loss: 0.6932\n",
      "Epoch[30 / 100], Loss: 0.6932\n",
      "Epoch[40 / 100], Loss: 0.6932\n",
      "Epoch[50 / 100], Loss: 0.6932\n",
      "Epoch[60 / 100], Loss: 0.6931\n",
      "Epoch[70 / 100], Loss: 0.6931\n",
      "Epoch[80 / 100], Loss: 0.6931\n",
      "Epoch[90 / 100], Loss: 0.6931\n",
      "Epoch[100 / 100], Loss: 0.6931\n",
      "Training Complete\n"
     ]
    }
   ],
   "source": [
    "# training\n",
    "for epoch in range(epochs):\n",
    "    # forward pass\n",
    "    outputs = model(X_train)\n",
    "    loss = criterion(outputs, y_train)\n",
    "    \n",
    "    # backward pass and optimization\n",
    "    optimizer.zero_grad()\n",
    "    loss.backward()\n",
    "    optimizer.step()\n",
    "    \n",
    "    if (epoch+1) % 10 == 0:\n",
    "        print(f'Epoch[{epoch + 1} / {epochs}], Loss: {loss.item():.4f}')\n",
    "print(\"Training Complete\")"
   ]
  },
  {
   "cell_type": "code",
   "execution_count": 32,
   "id": "264fc089",
   "metadata": {},
   "outputs": [
    {
     "name": "stdout",
     "output_type": "stream",
     "text": [
      "Test Accuracy: 49.80%\n"
     ]
    }
   ],
   "source": [
    "# set evaluation mode\n",
    "model.eval()\n",
    "\n",
    "# disable gradient computation for eval\n",
    "with torch.no_grad():\n",
    "    test_outputs = model(X_test)\n",
    "    test_outputs = (test_outputs > 0.5).float()\n",
    "    # convert probabilities to binary prediction as we did to heart attack/no heart attack\n",
    "    \n",
    "    # calculate accuracy\n",
    "    accuracy = (test_outputs == y_test).float().mean()\n",
    "    print(f'Test Accuracy: {accuracy.item() * 100:.2f}%')"
   ]
  }
 ],
 "metadata": {
  "kernelspec": {
   "display_name": "Python 3 (ipykernel)",
   "language": "python",
   "name": "python3"
  },
  "language_info": {
   "codemirror_mode": {
    "name": "ipython",
    "version": 3
   },
   "file_extension": ".py",
   "mimetype": "text/x-python",
   "name": "python",
   "nbconvert_exporter": "python",
   "pygments_lexer": "ipython3",
   "version": "3.9.7"
  }
 },
 "nbformat": 4,
 "nbformat_minor": 5
}
