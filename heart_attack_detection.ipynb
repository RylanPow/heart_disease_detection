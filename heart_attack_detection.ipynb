{
 "cells": [
  {
   "cell_type": "code",
   "execution_count": 1,
   "id": "1829345a",
   "metadata": {
    "scrolled": true
   },
   "outputs": [],
   "source": [
    "import sys\n",
    "import matplotlib.pyplot as plt\n",
    "import numpy as np\n",
    "import pandas as pd\n",
    "\n",
    "import torch\n",
    "import torch.nn as nn\n",
    "import torch.optim as optim\n",
    "from torch.utils.data import DataLoader, TensorDataset\n",
    "from sklearn.model_selection import train_test_split\n",
    "from sklearn.preprocessing import StandardScaler, OneHotEncoder"
   ]
  },
  {
   "cell_type": "code",
   "execution_count": 2,
   "id": "447f30ec",
   "metadata": {
    "scrolled": true
   },
   "outputs": [],
   "source": [
    "df = pd.read_csv('heart_attack_dataset.csv')"
   ]
  },
  {
   "cell_type": "code",
   "execution_count": 3,
   "id": "2ff0b7c4",
   "metadata": {
    "scrolled": true
   },
   "outputs": [],
   "source": [
    "# print(df.shape)\n",
    "# print(df.head())\n",
    "# categorization of columns for reference\n",
    "BinaryColumns = ['Smoker', 'Diabetes', 'Hypertension', 'FamilyHistory', \n",
    "                'AlcoholConsumption', 'Medication', 'ExerciseInducedAngina', \n",
    "                 'PreviousHeartAttack', 'StrokeHistory']\n",
    "    \n",
    "ContinuousColumns = ['Age', 'Cholesterol', 'BloodPressure', 'HeartRate', 'BMI', 'PhysicalActivity', \n",
    "                     'Income', 'MaxHeartRate', 'ST_Depression', 'NumberOfMajorVessels']\n",
    "    \n",
    "CategoricalColumns = ['Gender', 'Diet', 'StressLevel', 'Ethnicity', \n",
    "                      'EducationLevel', 'ChestPainType', 'ECGResults', \n",
    "                      'Slope', 'Thalassemia', 'Residence', 'EmploymentStatus', \n",
    "                      'MaritalStatus']"
   ]
  },
  {
   "cell_type": "code",
   "execution_count": 4,
   "id": "e96d2609",
   "metadata": {},
   "outputs": [],
   "source": [
    "# extract features\n",
    "binary_features = df[['Smoker', 'Diabetes', 'Hypertension', 'PreviousHeartAttack', 'StrokeHistory']].values\n",
    "continuous_features = df[['Age', 'Cholesterol', 'BloodPressure', 'BMI', 'PhysicalActivity']].values\n",
    "categorical_features = df[['Ethnicity', 'Diet', 'ECGResults', 'StressLevel']]\n",
    "\n",
    "# one-hot encode categorical features \n",
    "categorical_features = pd.get_dummies(categorical_features, drop_first=True).values\n",
    "\n",
    "# normalize continuos features\n",
    "scaler = StandardScaler()\n",
    "continuous_features = scaler.fit_transform(continuous_features)\n",
    "\n",
    "# combine all features\n",
    "X = np.concatenate([binary_features, continuous_features, categorical_features], axis=1)"
   ]
  },
  {
   "cell_type": "code",
   "execution_count": 5,
   "id": "caa2b3c6",
   "metadata": {
    "scrolled": true
   },
   "outputs": [],
   "source": [
    "\n",
    "# extract target\n",
    "y = df['Outcome'].values\n",
    "# convert 'heartk attack' and 'not heart attack' to binary output\n",
    "y = (y == 'Heart Attack').astype(int)\n",
    "\n",
    "# split data into train and test sets\n",
    "X_train, X_test, y_train, y_test = train_test_split(X, y, test_size = 0.1, random_state = 42)\n",
    "\n",
    "# standardize inputs\n",
    "scaler = StandardScaler()\n",
    "X_train = torch.tensor(X_train, dtype = torch.float32)\n",
    "y_train = torch.tensor(y_train, dtype = torch.float32).view(-1, 1)\n",
    "\n",
    "X_test = torch.tensor(X_test, dtype = torch.float32)\n",
    "y_test = torch.tensor(y_test, dtype = torch.float32).view(-1, 1)"
   ]
  },
  {
   "cell_type": "code",
   "execution_count": 6,
   "id": "bdec337d",
   "metadata": {},
   "outputs": [
    {
     "name": "stdout",
     "output_type": "stream",
     "text": [
      "(372974, 19)\n"
     ]
    }
   ],
   "source": [
    "# note: after one hot encoding, each category from each categorical feature becomes its own feature\n",
    "# therefore, for example, 9 chosen columns could actually mean 14 columns\n",
    "# remember that when creating the first NN layer!\n",
    "print(X.shape)"
   ]
  },
  {
   "cell_type": "code",
   "execution_count": 17,
   "id": "babe69ba",
   "metadata": {
    "scrolled": true
   },
   "outputs": [],
   "source": [
    "class NN(nn.Module):\n",
    "    def __init__(self):\n",
    "        super(NN, self).__init__()\n",
    "        self.fc1 = nn.Linear(19, 1024) # input layer.  note: first input num must match number of input features\n",
    "        self.fc2 = nn.Linear(1024, 64)\n",
    "        self.fc3 = nn.Linear(64, 32)\n",
    "        self.fc4 = nn.Linear(32, 16) \n",
    "        self.fc5 = nn.Linear(16, 8)\n",
    "        self.fc_out = nn.Linear(8, 1)  # last hidden layer to output layer\n",
    "        self.dropout = nn.Dropout(p=0.0)\n",
    "        self.sigmoid = nn.Sigmoid()\n",
    "    \n",
    "    def forward(self, x):\n",
    "        # ReLu on hidden layers\n",
    "        x = torch.relu(self.fc1(x))  \n",
    "        x = torch.relu(self.fc2(x))   \n",
    "        x = torch.relu(self.fc3(x))   \n",
    "        x = torch.relu(self.fc4(x))   \n",
    "        x = torch.relu(self.fc5(x))   \n",
    "        x = self.sigmoid(self.fc_out(x)) # sigmoid activiation on output\n",
    "        return x"
   ]
  },
  {
   "cell_type": "code",
   "execution_count": 18,
   "id": "7b0ec458",
   "metadata": {
    "scrolled": true
   },
   "outputs": [],
   "source": [
    "# hyper-parameters\n",
    "learn_rate = 0.1\n",
    "epochs = 100\n",
    "# batch_size = 1024"
   ]
  },
  {
   "cell_type": "code",
   "execution_count": 19,
   "id": "d47f3775",
   "metadata": {
    "scrolled": true
   },
   "outputs": [
    {
     "name": "stdout",
     "output_type": "stream",
     "text": [
      "Using device: cuda\n"
     ]
    }
   ],
   "source": [
    "# set GPU\n",
    "device = torch.device('cuda' if torch.cuda.is_available() else 'cpu')\n",
    "\n",
    "# instantiate the model, move it to GPU\n",
    "model = NN().to(device)\n",
    "\n",
    "# loss function \n",
    "criterion = nn.BCELoss()\n",
    "\n",
    "# optimizer\n",
    "optimizer = optim.Adam(model.parameters(), lr = learn_rate)\n",
    "\n",
    "# train loader for batch training\n",
    "# train_dataset = TensorDataset(X_train, y_train)\n",
    "# train_loader = DataLoader(train_dataset, batch_size=batch_size, shuffle=True)\n",
    "\n",
    "# move training and testing data to GPU\n",
    "X_train = X_train.to(device)\n",
    "y_train = y_train.to(device)\n",
    "X_test = X_test.to(device)\n",
    "y_test = y_test.to(device)\n",
    "\n",
    "print(f'Using device: {device}')"
   ]
  },
  {
   "cell_type": "code",
   "execution_count": 20,
   "id": "6fe5d7b9",
   "metadata": {
    "scrolled": true
   },
   "outputs": [
    {
     "name": "stdout",
     "output_type": "stream",
     "text": [
      "Epoch [10/100], Training Loss: 50.0191, Training Accuracy: 0.4998, Validation Loss: 49.3699, Validation Accuracy: 0.5063\n",
      "Epoch [20/100], Training Loss: 50.0191, Training Accuracy: 0.4998, Validation Loss: 49.3699, Validation Accuracy: 0.5063\n",
      "Epoch [30/100], Training Loss: 50.0191, Training Accuracy: 0.4998, Validation Loss: 49.3699, Validation Accuracy: 0.5063\n",
      "Epoch [40/100], Training Loss: 50.0191, Training Accuracy: 0.4998, Validation Loss: 49.3699, Validation Accuracy: 0.5063\n",
      "Epoch [50/100], Training Loss: 50.0191, Training Accuracy: 0.4998, Validation Loss: 49.3699, Validation Accuracy: 0.5063\n",
      "Epoch [60/100], Training Loss: 50.0191, Training Accuracy: 0.4998, Validation Loss: 49.3699, Validation Accuracy: 0.5063\n",
      "Epoch [70/100], Training Loss: 50.0191, Training Accuracy: 0.4998, Validation Loss: 49.3699, Validation Accuracy: 0.5063\n",
      "Epoch [80/100], Training Loss: 50.0191, Training Accuracy: 0.4998, Validation Loss: 49.3699, Validation Accuracy: 0.5063\n",
      "Epoch [90/100], Training Loss: 50.0191, Training Accuracy: 0.4998, Validation Loss: 49.3699, Validation Accuracy: 0.5063\n",
      "Epoch [100/100], Training Loss: 50.0191, Training Accuracy: 0.4998, Validation Loss: 49.3699, Validation Accuracy: 0.5063\n"
     ]
    }
   ],
   "source": [
    "# training and validation\n",
    "train_losses = []\n",
    "train_accuracies = []\n",
    "val_losses = []\n",
    "val_accuracies = []\n",
    "\n",
    "\n",
    "# batch training\n",
    "# for epoch in range(epochs):\n",
    "#     # Training phase\n",
    "#     model.train()\n",
    "#     for batch_X, batch_y in train_loader:\n",
    "#         batch_X, batch_y = batch_X.to(device), batch_y.to(device)\n",
    "#         optimizer.zero_grad()\n",
    "#         outputs = model(batch_X)\n",
    "#         loss = criterion(outputs, batch_y)\n",
    "#         loss.backward()\n",
    "#         optimizer.step()\n",
    "\n",
    "for epoch in range(epochs):\n",
    "    # training phase\n",
    "    model.train()\n",
    "    optimizer.zero_grad()\n",
    "    outputs = model(X_train)\n",
    "    loss = criterion(outputs, y_train)\n",
    "    loss.backward()\n",
    "    optimizer.step()\n",
    "\n",
    "    # Calculate training accuracy on the entire training set\n",
    "    model.eval()\n",
    "    with torch.no_grad():\n",
    "        train_outputs = model(X_train)\n",
    "        train_predictions = (train_outputs > 0.5).float()\n",
    "        train_correct = (train_predictions == y_train).float().sum()\n",
    "        train_accuracy = train_correct / y_train.shape[0]\n",
    "\n",
    "    # Store training metrics\n",
    "    train_losses.append(loss.item())\n",
    "    train_accuracies.append(train_accuracy.item())\n",
    "\n",
    "    # Validation phase\n",
    "    with torch.no_grad():\n",
    "        val_outputs = model(X_test)\n",
    "        val_loss = criterion(val_outputs, y_test)\n",
    "        val_predictions = (val_outputs > 0.5).float()\n",
    "        val_correct = (val_predictions == y_test).float().sum()\n",
    "        val_accuracy = val_correct / y_test.shape[0]\n",
    "\n",
    "    # Store validation metrics\n",
    "    val_losses.append(val_loss.item())\n",
    "    val_accuracies.append(val_accuracy.item())\n",
    "\n",
    "    # Print metrics every few epochs\n",
    "    if (epoch + 1) % 10 == 0:\n",
    "        print(f'Epoch [{epoch + 1}/{epochs}], '\n",
    "              f'Training Loss: {loss.item():.4f}, Training Accuracy: {train_accuracy.item():.4f}, '\n",
    "              f'Validation Loss: {val_loss.item():.4f}, Validation Accuracy: {val_accuracy.item():.4f}')"
   ]
  },
  {
   "cell_type": "code",
   "execution_count": 21,
   "id": "05b94865",
   "metadata": {
    "scrolled": false
   },
   "outputs": [
    {
     "name": "stdout",
     "output_type": "stream",
     "text": [
      "Maximum Training Accuracy: 0.4998\n",
      "Maximum Validation Accuracy: 0.5063\n"
     ]
    },
    {
     "data": {
      "image/png": "[encoded data removed]",
      "text/plain": [
       "<Figure size 1008x720 with 2 Axes>"
      ]
     },
     "metadata": {
      "needs_background": "light"
     },
     "output_type": "display_data"
    }
   ],
   "source": [
    "# max accuracies\n",
    "print(f\"Maximum Training Accuracy: {max(train_accuracies):.4f}\")\n",
    "print(f\"Maximum Validation Accuracy: {max(val_accuracies):.4f}\")\n",
    "\n",
    "# accuracy curves\n",
    "plt.figure(figsize=[14, 10])\n",
    "plt.subplot(2, 1, 1) # note: divides output into 2 rows, 1 col, and this figure has position 1\n",
    "plt.plot(train_accuracies, 'b', linewidth=3.0, label='Training Accuracy')\n",
    "plt.plot(val_accuracies, 'b--', linewidth=3.0, label='Validation Accuracy')\n",
    "plt.legend(fontsize=16)\n",
    "plt.xlabel('Epoch', fontsize=16)\n",
    "plt.ylabel('Accuracy', fontsize=16)\n",
    "plt.ylim(0, 1)\n",
    "plt.xticks(np.arange(0, epochs, 10), np.arange(1, epochs + 1, 10))\n",
    "plt.title('Accuracy Curves', fontsize=16)\n",
    "\n",
    "# loss curves\n",
    "plt.subplot(2, 1, 2)\n",
    "plt.plot(train_losses, 'r', linewidth=3.0, label='Training Loss')\n",
    "plt.plot(val_losses, 'r--', linewidth=3.0, label='Validation Loss')\n",
    "plt.legend(fontsize=16)\n",
    "plt.xlabel('Epoch', fontsize=16)\n",
    "plt.ylabel('Loss', fontsize=16)\n",
    "plt.ylim(0, 1)\n",
    "plt.xticks(np.arange(0, epochs, 10), np.arange(1, epochs + 1, 10))\n",
    "plt.title('Loss Curves', fontsize=16)\n",
    "\n",
    "plt.tight_layout()\n",
    "plt.show()"
   ]
  },
  {
   "cell_type": "code",
   "execution_count": 22,
   "id": "27dec64d",
   "metadata": {},
   "outputs": [
    {
     "name": "stdout",
     "output_type": "stream",
     "text": [
      "2.6.0+cu124\n"
     ]
    }
   ],
   "source": [
    "print(torch.__version__)"
   ]
  },
  {
   "cell_type": "code",
   "execution_count": 23,
   "id": "b349b277",
   "metadata": {},
   "outputs": [
    {
     "name": "stdout",
     "output_type": "stream",
     "text": [
      "12.4\n"
     ]
    }
   ],
   "source": [
    "print(torch.version.cuda)"
   ]
  }
 ],
 "metadata": {
  "kernelspec": {
   "display_name": "Python 3 (ipykernel)",
   "language": "python",
   "name": "python3"
  },
  "language_info": {
   "codemirror_mode": {
    "name": "ipython",
    "version": 3
   },
   "file_extension": ".py",
   "mimetype": "text/x-python",
   "name": "python",
   "nbconvert_exporter": "python",
   "pygments_lexer": "ipython3",
   "version": "3.9.7"
  }
 },
 "nbformat": 4,
 "nbformat_minor": 5
}
