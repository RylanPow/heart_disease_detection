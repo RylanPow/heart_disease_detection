{
 "cells": [
  {
   "cell_type": "code",
   "execution_count": 1,
   "id": "1829345a",
   "metadata": {
    "scrolled": true
   },
   "outputs": [],
   "source": [
    "import sys\n",
    "import matplotlib.pyplot as plt\n",
    "import numpy as np\n",
    "import pandas as pd\n",
    "\n",
    "import torch\n",
    "import torch.nn as nn\n",
    "import torch.optim as optim\n",
    "from torch.utils.data import DataLoader, TensorDataset\n",
    "from sklearn.model_selection import train_test_split\n",
    "from sklearn.preprocessing import StandardScaler, OneHotEncoder"
   ]
  },
  {
   "cell_type": "code",
   "execution_count": 2,
   "id": "447f30ec",
   "metadata": {
    "scrolled": true
   },
   "outputs": [],
   "source": [
    "df = pd.read_csv('heart_attack_dataset.csv')"
   ]
  },
  {
   "cell_type": "code",
   "execution_count": 138,
   "id": "2ff0b7c4",
   "metadata": {
    "scrolled": true
   },
   "outputs": [],
   "source": [
    "# print(df.shape)\n",
    "# print(df.head())\n",
    "# categorization of columns for reference\n",
    "BinaryColumns = ['Smoker', 'Diabetes', 'Hypertension', 'FamilyHistory', \n",
    "                 'PreviousHeartAttack', 'StrokeHistory']\n",
    "    \n",
    "ContinuousColumns = ['Age', 'Cholesterol', 'BloodPressure', 'HeartRate', 'BMI', 'PhysicalActivity', 'AlcoholConsumption',\n",
    "                     'StressLevel', 'Income', 'MaxHeartRate', 'ST_Depression', 'NumberOfMajorVessels']\n",
    "    \n",
    "CategoricalColumns = ['Gender', 'Diet', 'Ethnicity', 'EducationLevel', \n",
    "                      'Medication', 'ChestPainType', 'ECGResults', 'Slope', \n",
    "                      'Thalassemia', 'Residence', 'EmploymentStatus', \n",
    "                      'MaritalStatus', 'ExerciseInducedAngina']"
   ]
  },
  {
   "cell_type": "code",
   "execution_count": 164,
   "id": "e96d2609",
   "metadata": {},
   "outputs": [],
   "source": [
    "# extract features\n",
    "binary_features = df[['PreviousHeartAttack', 'Diabetes', 'Smoker']].values\n",
    "continuous_features = df[['Age', 'BloodPressure', 'Cholesterol', 'MaxHeartRate', 'BMI', 'NumberOfMajorVessels']].values\n",
    "categorical_features = df[['ChestPainType', 'ECGResults', 'ST_Depression']]\n",
    "\n",
    "# one-hot encode categorical features \n",
    "categorical_features = pd.get_dummies(categorical_features, drop_first=True).values\n",
    "\n",
    "# normalize continuous features\n",
    "# NOTE: THIS IS DATA LEAKAGE! the validation set is also getting scaled here, meaning the test data \n",
    "# is influences the scaling parameters, leading to overly optimistic performance metrics\n",
    "# this should be done AFTER the split! keep for now\n",
    "scaler = StandardScaler()\n",
    "continuous_features = scaler.fit_transform(continuous_features)\n",
    "\n",
    "# combine all features\n",
    "X = np.concatenate([binary_features, continuous_features, categorical_features], axis=1)"
   ]
  },
  {
   "cell_type": "code",
   "execution_count": 165,
   "id": "caa2b3c6",
   "metadata": {
    "scrolled": true
   },
   "outputs": [],
   "source": [
    "\n",
    "# extract target\n",
    "y = df['Outcome'].values\n",
    "# convert 'heartk attack' and 'not heart attack' to binary output\n",
    "y = (y == 'Heart Attack').astype(int)\n",
    "\n",
    "# split data into train and test sets\n",
    "X_train, X_test, y_train, y_test = train_test_split(X, y, test_size = 0.1, random_state = 42)\n",
    "\n",
    "X_train = torch.tensor(X_train, dtype = torch.float32)\n",
    "y_train = torch.tensor(y_train, dtype = torch.float32).view(-1, 1)\n",
    "\n",
    "X_test = torch.tensor(X_test, dtype = torch.float32)\n",
    "y_test = torch.tensor(y_test, dtype = torch.float32).view(-1, 1)"
   ]
  },
  {
   "cell_type": "code",
   "execution_count": 166,
   "id": "bdec337d",
   "metadata": {},
   "outputs": [
    {
     "name": "stdout",
     "output_type": "stream",
     "text": [
      "(372974, 15)\n"
     ]
    }
   ],
   "source": [
    "# note: after one hot encoding, each category from each categorical feature becomes its own feature\n",
    "# therefore, for example, 9 chosen columns could actually mean 14 columns\n",
    "# remember that when creating the first NN layer!\n",
    "print(X.shape)"
   ]
  },
  {
   "cell_type": "code",
   "execution_count": 170,
   "id": "babe69ba",
   "metadata": {
    "scrolled": true
   },
   "outputs": [],
   "source": [
    "# class NN(nn.Module):\n",
    "#     def __init__(self):\n",
    "#         super(NN, self).__init__()\n",
    "#         self.fc1 = nn.Linear(12, 32) # input layer.  note: first input num must match number of input features\n",
    "#         self.fc2 = nn.Linear(32, 16)\n",
    "#         self.fc_out = nn.Linear(16, 1)  # last hidden layer to output layer\n",
    "#         self.dropout = nn.Dropout(p=0.05)\n",
    "    \n",
    "#     def forward(self, x):\n",
    "#         # ReLu on hidden layers\n",
    "#         x = torch.relu(self.fc1(x)) \n",
    "#         x = self.dropout(x)\n",
    "#         x = torch.relu(self.fc2(x))  \n",
    "#         x = self.dropout(x)\n",
    "#         #x = torch.relu(self.fc3(x))   \n",
    "#         #x = torch.relu(self.fc5(x))   \n",
    "#         x = self.fc_out(x) # sigmoid activiation on output\n",
    "#         return x\n",
    "\n",
    "\n",
    "class NN(nn.Module):\n",
    "    def __init__(self):\n",
    "        super(NN, self).__init__()\n",
    "        self.fc1 = nn.Linear(15, 128)  # Input layer\n",
    "        self.bn1 = nn.BatchNorm1d(128)        # BatchNorm after first layer\n",
    "        self.fc2 = nn.Linear(128, 64)         # Second hidden layer\n",
    "        self.bn2 = nn.BatchNorm1d(64)         # BatchNorm after second layer\n",
    "        self.fc3 = nn.Linear(64, 32)          # Third hidden layer\n",
    "        self.bn3 = nn.BatchNorm1d(32)         # BatchNorm after third layer\n",
    "        self.fc_out = nn.Linear(32, 1)        # Output layer\n",
    "        self.dropout1 = nn.Dropout(p=0.5)     # Dropout after first layer\n",
    "        self.dropout2 = nn.Dropout(p=0.3)     # Dropout after second layer\n",
    "\n",
    "        # Initialize weights\n",
    "        nn.init.kaiming_normal_(self.fc1.weight, nonlinearity='relu')\n",
    "        nn.init.kaiming_normal_(self.fc2.weight, nonlinearity='relu')\n",
    "        nn.init.kaiming_normal_(self.fc3.weight, nonlinearity='relu')\n",
    "        nn.init.kaiming_normal_(self.fc_out.weight, nonlinearity='relu')\n",
    "\n",
    "    def forward(self, x):\n",
    "        # First hidden layer\n",
    "        x = torch.relu(self.fc1(x))\n",
    "        x = self.bn1(x)\n",
    "        x = self.dropout1(x)\n",
    "        \n",
    "        # Second hidden layer\n",
    "        x = torch.relu(self.fc2(x))\n",
    "        x = self.bn2(x)\n",
    "        x = self.dropout2(x)\n",
    "        \n",
    "        # Third hidden layer\n",
    "        x = torch.relu(self.fc3(x))\n",
    "        x = self.bn3(x)\n",
    "        \n",
    "        # Output layer (no activation, since we're using BCEWithLogitsLoss)\n",
    "        x = self.fc_out(x)\n",
    "        return x"
   ]
  },
  {
   "cell_type": "code",
   "execution_count": 171,
   "id": "7b0ec458",
   "metadata": {
    "scrolled": true
   },
   "outputs": [],
   "source": [
    "# hyper-parameters\n",
    "learn_rate = 0.001\n",
    "epochs = 20\n",
    "batch_size = 128"
   ]
  },
  {
   "cell_type": "code",
   "execution_count": 178,
   "id": "d47f3775",
   "metadata": {
    "scrolled": true
   },
   "outputs": [
    {
     "name": "stdout",
     "output_type": "stream",
     "text": [
      "Using device: cuda\n"
     ]
    }
   ],
   "source": [
    "# set GPU\n",
    "device = torch.device('cuda' if torch.cuda.is_available() else 'cpu')\n",
    "print(f'Using device: {device}')\n",
    "\n",
    "# instantiate the model, move it to GPU\n",
    "model = NN().to(device)\n",
    "\n",
    "# loss function \n",
    "criterion = nn.BCEWithLogitsLoss()\n",
    "\n",
    "# optimizer\n",
    "optimizer = optim.Adam(model.parameters(), lr = learn_rate)\n",
    "\n",
    "# train loader for batch training\n",
    "train_dataset = TensorDataset(X_train, y_train)\n",
    "train_loader = DataLoader(train_dataset, batch_size=batch_size, shuffle=True)\n",
    "\n",
    "#TEST ON SIMPLE SET\n",
    "X_train = X_train[:10]\n",
    "y_train = y_train[:10]\n",
    "\n",
    "# move training and testing data to GPU\n",
    "X_train = X_train.to(device)\n",
    "y_train = y_train.to(device)\n",
    "X_test = X_test.to(device)\n",
    "y_test = y_test.to(device)"
   ]
  },
  {
   "cell_type": "code",
   "execution_count": 179,
   "id": "6fe5d7b9",
   "metadata": {
    "scrolled": true
   },
   "outputs": [
    {
     "name": "stdout",
     "output_type": "stream",
     "text": [
      "Epoch [1/20], Training Loss: 0.8403, Training Accuracy: 0.8000, Validation Loss: 0.8807, Validation Accuracy: 0.4968\n",
      "Epoch [2/20], Training Loss: 0.4604, Training Accuracy: 0.9000, Validation Loss: 0.8579, Validation Accuracy: 0.4982\n",
      "Epoch [3/20], Training Loss: 0.4892, Training Accuracy: 0.9000, Validation Loss: 0.8266, Validation Accuracy: 0.4969\n",
      "Epoch [4/20], Training Loss: 0.5874, Training Accuracy: 0.9000, Validation Loss: 0.8176, Validation Accuracy: 0.4974\n",
      "Epoch [5/20], Training Loss: 0.5319, Training Accuracy: 0.9000, Validation Loss: 0.7931, Validation Accuracy: 0.4997\n",
      "Epoch [6/20], Training Loss: 0.4660, Training Accuracy: 0.8000, Validation Loss: 0.7823, Validation Accuracy: 0.5005\n",
      "Epoch [7/20], Training Loss: 0.7378, Training Accuracy: 0.9000, Validation Loss: 0.7853, Validation Accuracy: 0.4991\n",
      "Epoch [8/20], Training Loss: 0.7651, Training Accuracy: 0.9000, Validation Loss: 0.7843, Validation Accuracy: 0.5000\n",
      "Epoch [9/20], Training Loss: 0.3697, Training Accuracy: 0.8000, Validation Loss: 0.7826, Validation Accuracy: 0.5007\n",
      "Epoch [10/20], Training Loss: 0.4963, Training Accuracy: 0.9000, Validation Loss: 0.7885, Validation Accuracy: 0.4984\n",
      "Epoch [11/20], Training Loss: 0.4634, Training Accuracy: 0.8000, Validation Loss: 0.7965, Validation Accuracy: 0.5011\n",
      "Epoch [12/20], Training Loss: 0.6989, Training Accuracy: 0.8000, Validation Loss: 0.8031, Validation Accuracy: 0.5005\n",
      "Epoch [13/20], Training Loss: 0.5278, Training Accuracy: 0.8000, Validation Loss: 0.8079, Validation Accuracy: 0.5013\n",
      "Epoch [14/20], Training Loss: 0.5547, Training Accuracy: 0.9000, Validation Loss: 0.8140, Validation Accuracy: 0.5012\n",
      "Epoch [15/20], Training Loss: 0.3221, Training Accuracy: 0.9000, Validation Loss: 0.8196, Validation Accuracy: 0.5009\n",
      "Epoch [16/20], Training Loss: 0.3858, Training Accuracy: 1.0000, Validation Loss: 0.8317, Validation Accuracy: 0.5009\n",
      "Epoch [17/20], Training Loss: 0.6904, Training Accuracy: 1.0000, Validation Loss: 0.8317, Validation Accuracy: 0.4996\n",
      "Epoch [18/20], Training Loss: 0.4178, Training Accuracy: 1.0000, Validation Loss: 0.8352, Validation Accuracy: 0.4990\n",
      "Epoch [19/20], Training Loss: 0.1912, Training Accuracy: 1.0000, Validation Loss: 0.8460, Validation Accuracy: 0.4998\n",
      "Epoch [20/20], Training Loss: 0.2984, Training Accuracy: 1.0000, Validation Loss: 0.8537, Validation Accuracy: 0.5005\n"
     ]
    }
   ],
   "source": [
    "# training and validation\n",
    "train_losses = []\n",
    "train_accuracies = []\n",
    "val_losses = []\n",
    "val_accuracies = []\n",
    "\n",
    "\n",
    "# batch training\n",
    "# for epoch in range(epochs):\n",
    "#     # Training phase\n",
    "#     model.train()\n",
    "#     for batch_X, batch_y in train_loader:\n",
    "#         batch_X, batch_y = batch_X.to(device), batch_y.to(device)\n",
    "#         optimizer.zero_grad()\n",
    "#         outputs = model(batch_X)\n",
    "#         loss = criterion(outputs, batch_y)\n",
    "#         loss.backward()\n",
    "#         optimizer.step()\n",
    "\n",
    "for epoch in range(epochs):\n",
    "    # training phase\n",
    "    model.train()\n",
    "    optimizer.zero_grad()\n",
    "    outputs = model(X_train)\n",
    "    loss = criterion(outputs, y_train)\n",
    "    loss.backward()\n",
    "    optimizer.step()\n",
    "\n",
    "    # Calculate training accuracy on the entire training set\n",
    "    model.eval()\n",
    "    with torch.no_grad():\n",
    "        train_outputs = model(X_train)\n",
    "        train_predictions = (train_outputs > 0.5).float()\n",
    "        train_correct = (train_predictions == y_train).float().sum()\n",
    "        train_accuracy = train_correct / y_train.shape[0]\n",
    "\n",
    "    # Store training metrics\n",
    "    train_losses.append(loss.item())\n",
    "    train_accuracies.append(train_accuracy.item())\n",
    "\n",
    "    # Validation phase\n",
    "    with torch.no_grad():\n",
    "        val_outputs = model(X_test)\n",
    "        val_loss = criterion(val_outputs, y_test)\n",
    "        val_predictions = (val_outputs > 0.5).float()\n",
    "        val_correct = (val_predictions == y_test).float().sum()\n",
    "        val_accuracy = val_correct / y_test.shape[0]\n",
    "\n",
    "    # Store validation metrics\n",
    "    val_losses.append(val_loss.item())\n",
    "    val_accuracies.append(val_accuracy.item())\n",
    "\n",
    "    # Print metrics every few epochs\n",
    "    if (epoch + 1) % 1 == 0:\n",
    "        print(f'Epoch [{epoch + 1}/{epochs}], '\n",
    "              f'Training Loss: {loss.item():.4f}, Training Accuracy: {train_accuracy.item():.4f}, '\n",
    "              f'Validation Loss: {val_loss.item():.4f}, Validation Accuracy: {val_accuracy.item():.4f}')"
   ]
  },
  {
   "cell_type": "code",
   "execution_count": 180,
   "id": "05b94865",
   "metadata": {
    "scrolled": false
   },
   "outputs": [
    {
     "name": "stdout",
     "output_type": "stream",
     "text": [
      "Maximum Training Accuracy: 1.0000\n",
      "Maximum Validation Accuracy: 0.5013\n"
     ]
    },
    {
     "data": {
      "image/png": "[encoded data removed]",
      "text/plain": [
       "<Figure size 1008x720 with 2 Axes>"
      ]
     },
     "metadata": {
      "needs_background": "light"
     },
     "output_type": "display_data"
    }
   ],
   "source": [
    "# max accuracies\n",
    "print(f\"Maximum Training Accuracy: {max(train_accuracies):.4f}\")\n",
    "print(f\"Maximum Validation Accuracy: {max(val_accuracies):.4f}\")\n",
    "\n",
    "# accuracy curves\n",
    "plt.figure(figsize=[14, 10])\n",
    "plt.subplot(2, 1, 1) # note: divides output into 2 rows, 1 col, and this figure has position 1\n",
    "plt.plot(train_accuracies, 'b', linewidth=3.0, label='Training Accuracy')\n",
    "plt.plot(val_accuracies, 'b--', linewidth=3.0, label='Validation Accuracy')\n",
    "plt.legend(fontsize=16)\n",
    "plt.xlabel('Epoch', fontsize=16)\n",
    "plt.ylabel('Accuracy', fontsize=16)\n",
    "plt.ylim(0, 1)\n",
    "plt.xticks(np.arange(0, epochs, 10), np.arange(1, epochs + 1, 10))\n",
    "plt.title('Accuracy Curves', fontsize=16)\n",
    "\n",
    "# loss curves\n",
    "plt.subplot(2, 1, 2)\n",
    "plt.plot(train_losses, 'r', linewidth=3.0, label='Training Loss')\n",
    "plt.plot(val_losses, 'r--', linewidth=3.0, label='Validation Loss')\n",
    "plt.legend(fontsize=16)\n",
    "plt.xlabel('Epoch', fontsize=16)\n",
    "plt.ylabel('Loss', fontsize=16)\n",
    "plt.ylim(0, 1)\n",
    "plt.xticks(np.arange(0, epochs, 10), np.arange(1, epochs + 1, 10))\n",
    "plt.title('Loss Curves', fontsize=16)\n",
    "\n",
    "plt.tight_layout()\n",
    "plt.show()"
   ]
  }
 ],
 "metadata": {
  "kernelspec": {
   "display_name": "Python 3 (ipykernel)",
   "language": "python",
   "name": "python3"
  },
  "language_info": {
   "codemirror_mode": {
    "name": "ipython",
    "version": 3
   },
   "file_extension": ".py",
   "mimetype": "text/x-python",
   "name": "python",
   "nbconvert_exporter": "python",
   "pygments_lexer": "ipython3",
   "version": "3.9.7"
  }
 },
 "nbformat": 4,
 "nbformat_minor": 5
}
