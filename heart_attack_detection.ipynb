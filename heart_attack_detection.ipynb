{
 "cells": [
  {
   "cell_type": "code",
   "execution_count": 4,
   "id": "1829345a",
   "metadata": {},
   "outputs": [],
   "source": [
    "import sys\n",
    "import matplotlib.pyplot as plt\n",
    "import numpy as np\n",
    "import pandas as pd"
   ]
  },
  {
   "cell_type": "code",
   "execution_count": 5,
   "id": "447f30ec",
   "metadata": {},
   "outputs": [],
   "source": [
    "df = pd.read_csv('heart_attack_dataset.csv')"
   ]
  },
  {
   "cell_type": "code",
   "execution_count": 6,
   "id": "2ff0b7c4",
   "metadata": {},
   "outputs": [
    {
     "name": "stdout",
     "output_type": "stream",
     "text": [
      "(372974, 32)\n",
      "   Age  Gender  Cholesterol  BloodPressure  HeartRate   BMI  Smoker  Diabetes  \\\n",
      "0   31    Male          194            162         71  22.9       0         1   \n",
      "1   69    Male          208            148         93  33.9       1         1   \n",
      "2   34  Female          132            161         94  34.0       0         0   \n",
      "3   53    Male          268            134         91  35.0       0         1   \n",
      "4   57  Female          203            140         75  30.1       0         1   \n",
      "\n",
      "   Hypertension  FamilyHistory  ...  ExerciseInducedAngina        Slope  \\\n",
      "0             0              0  ...                    Yes  Downsloping   \n",
      "1             0              0  ...                    Yes    Upsloping   \n",
      "2             1              1  ...                    Yes    Upsloping   \n",
      "3             1              0  ...                    Yes         Flat   \n",
      "4             0              0  ...                    Yes         Flat   \n",
      "\n",
      "  NumberOfMajorVessels        Thalassemia PreviousHeartAttack  StrokeHistory  \\\n",
      "0                    1             Normal                   0              0   \n",
      "1                    2             Normal                   0              0   \n",
      "2                    0             Normal                   1              0   \n",
      "3                    0  Reversible defect                   1              0   \n",
      "4                    0       Fixed defect                   1              0   \n",
      "\n",
      "  Residence EmploymentStatus MaritalStatus          Outcome  \n",
      "0  Suburban          Retired        Single  No Heart Attack  \n",
      "1  Suburban       Unemployed       Married  No Heart Attack  \n",
      "2     Rural          Retired        Single     Heart Attack  \n",
      "3  Suburban          Retired       Widowed  No Heart Attack  \n",
      "4     Rural          Retired       Married     Heart Attack  \n",
      "\n",
      "[5 rows x 32 columns]\n"
     ]
    }
   ],
   "source": [
    "print(df.shape)\n",
    "print(df.head())"
   ]
  },
  {
   "cell_type": "code",
   "execution_count": null,
   "id": "caa2b3c6",
   "metadata": {},
   "outputs": [],
   "source": []
  }
 ],
 "metadata": {
  "kernelspec": {
   "display_name": "Python 3 (ipykernel)",
   "language": "python",
   "name": "python3"
  },
  "language_info": {
   "codemirror_mode": {
    "name": "ipython",
    "version": 3
   },
   "file_extension": ".py",
   "mimetype": "text/x-python",
   "name": "python",
   "nbconvert_exporter": "python",
   "pygments_lexer": "ipython3",
   "version": "3.9.7"
  }
 },
 "nbformat": 4,
 "nbformat_minor": 5
}
